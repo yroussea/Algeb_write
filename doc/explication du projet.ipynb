{
 "cells": [
  {
   "attachments": {},
   "cell_type": "markdown",
   "metadata": {},
   "source": [
    "# <div style = \"text-align : center;\"><span style=\"border: 2px solid;padding:6px;color:dodgerblue;\">Projet NSI</span></div> #\n",
    "\n",
    "### <span style=\"text-decoration: underline;color:red;\">Presentation</span> : ###\n",
    "Le projet s'appelle Algeb'Write et est inspirer du jeu BRAIN TRAINING sur Nintendo DS<br>\n",
    "Le but est de répondre à une équation en écrivant la réponse \"à la main\", non pas au clavier mais à la souris.<br>\n",
    "<br>\n",
    "\n",
    "### <span style=\"text-decoration: underline;color:green;\">les Bibliothèque utilisé</span> : ###\n",
    "<u>pour éxecuter main:</u> <br>\n",
    "<b>pygame</b> -> permet de creer le jeu <br>\n",
    "<b>numpy</b> -> permet de creer des matrices, est utilisé pour le réseau de neurone <br>\n",
    "random -> permet de generer des nombres aléatoire <br>\n",
    "copy -> créer une copy d'une variable <br>\n",
    "<b>pickle</b> -> permet d'enregister et d'importer des fichers, est utilisé pour sauvegarder les paramètres du réseau de neurone entrainé <br>\n",
    "math (sin) -> permet de calculer un sinus, permet de créer une animation\n",
    "<br>\n",
    "<u>pour entrainer le réseau (nombre.ipynb):</u> <br>\n",
    "<b>sklearn.metrics</b> -> permet de voir la ressemblance entre deux matrices, permet de voir l'efficacité du réseau de neurone <br>\n",
    "<b>matplotlib.pyplot</b> -> permet de representer des courbes, permet de visualiser l'efficacité du réseau de neurone au cours du temps <br>\n",
    "<b>tqdm</b> -> permet de voir la progression d'une boucle for <br>\n",
    "<b>IPython.display</b> -> attendre pour effacer l'output jusqu'à ce qu'un nouvel output soit disponible pour le remplacer <br>\n",
    "warnings -> controle les msg d'erreur, permet de les eviter lors de calcul d'exp qui tant vers un infini <br>\n",
    "time -> controle du temps <br>\n",
    "\n",
    "<br>\n",
    "\n",
    "### <span style=\"text-decoration: underline;color:lightblue;\">Comment jouer</span> : ###\n",
    "L'objectif du jeu est de répondre au plus vite à l'équation qui nous est soumise dans la partie gauche <br>\n",
    "pour cela, il faut écrire avec la souris dans l'un des carrés à droite <br>\n",
    "<br>\n",
    "Si le résultat attendu comporte deux chiffres, il faut alors en écrire un par carré  <br>\n",
    "<br>\n",
    "Notre réseau de neurones artificielle tentera de déchiffré votre écriture et de lire ce qu'il y a écrit <br>\n",
    "cela sera afficher dans la case au dessus des carrés <br>\n",
    "<br>\n",
    "Si vous pensez vous être tromper ou bien si le réseau de neuronnes n'a pas réussit a lire le chiffre que vous avez écrit, <br>\n",
    "il est possible d'effacer la case, pour cela il faut cliquer sur le bouton 'erase' correspondant à la case qui doit être effacé <br>\n",
    "<br>\n",
    "Si au contraire, votre écriture a été dechiffré, vous pouver validez votre réponse en cliquant sur le bouton 'submit' en bas à droite, <br>\n",
    "vous passerez ainsi à la prochaine équation<br>\n",
    "<br>\n",
    "L'objectif en tant que joueur est donc de résoudre les équation pour battre son record.<br>\n",
    "\n",
    "### <span style=\"text-decoration: underline;color:yellow;\">remarque</span> : ###\n",
    "\n",
    "-> Lorsque un résultat avec 1 seul chiffres est attendu, il ne faut pas mettre de 0 devant, il suffit de choisire l'une des case et d'y mettre la réponse <br>\n",
    "-> Il ne faut pas écrire deux nombres dans la même case <br>\n",
    "-> Certain nombres peuvent être compliqué à reconnaitre. Ce problème est du au fait que les nombres ont souvent été enregister qu'avec 1 paterne.<br>\n",
    "\n"
   ]
  },
  {
   "attachments": {},
   "cell_type": "markdown",
   "metadata": {},
   "source": [
    "![title](dossier_pour_doc/nombre.png) <br>\n",
    "Voici le type d'écriture que le réseau de neurone lis le mieux. Si vous suivez l'écriture de chacun de ces numéros ci dessus, votre experience ne sera que mieux. Et les erreurs du réseau de neuronne seraient moins communes."
   ]
  },
  {
   "attachments": {},
   "cell_type": "markdown",
   "metadata": {},
   "source": [
    "## <div style = \"text-align : center;\"> <span style=\"color:dodgerblue;\">Explication de toute les fonctions:</span> </div> ##\n",
    "\n",
    "##### <span style=\"text-decoration: underline\">Fonctions simples</span> : #####"
   ]
  },
  {
   "attachments": {},
   "cell_type": "markdown",
   "metadata": {},
   "source": [
    "![title](dossier_pour_doc/calcul.PNG)"
   ]
  },
  {
   "attachments": {},
   "cell_type": "markdown",
   "metadata": {},
   "source": [
    "Voici, ce qui est surement les deux fonctions les plus simples du code, mais elles sont, tout de même, parmis les plus importantes <br>\n",
    "La première est celle qui crée le calcul auquelle il faut résoudre.<br>\n",
    "Quand à la deuxieme, elle renvoie le résultat attendu au calcul posé."
   ]
  },
  {
   "attachments": {},
   "cell_type": "markdown",
   "metadata": {},
   "source": [
    "![title](dossier_pour_doc/utilisation_reseau_neurone.PNG)"
   ]
  },
  {
   "attachments": {},
   "cell_type": "markdown",
   "metadata": {},
   "source": [
    "Ces fonction quand à elles permettent de lire une image. <br>\n",
    "Si on insère dans la fonction <code>lisible</code>, une array de taille (784,1) ainsi que le reseau de la classe <code>utilisation_reseau_de_neurone</code>, <br>\n",
    "elle nous renvera une chaine du nombre que notre reseau de neuronnes lis. <br>"
   ]
  },
  {
   "attachments": {},
   "cell_type": "markdown",
   "metadata": {},
   "source": [
    "![title](dossier_pour_doc/diagrame_de_3Blue1Brown.PNG)\n",
    "_tiré de 3Blue1Brown_"
   ]
  },
  {
   "attachments": {},
   "cell_type": "markdown",
   "metadata": {},
   "source": [
    "Pour pouvoir lire, la classe <code>utilisation_reseau_de_neurone</code> utilise: <br>\n",
    "&nbsp;&nbsp; -> Les paramètres des neuronnes qu'elle importe d'un ficher (nous verons comment créer ce ficher lorsque nous verrons l'entrainement du réseau). <br>\n",
    "&nbsp;&nbsp; -> La méthode <code>forward_propagation</code> qui se base sur le principe du deep learning du meme nom. <br>\n",
    "&nbsp;&nbsp; -> La méthode <code>predict</code> (qui est la seul que nous allons detaillé maintenant). <br>\n",
    "La méthode <code>predict</code> envoie une array (de taille (784, n)) dans le réseau de neuronne et y ressort une array (de taille (10,n)) qui correspond aux activations de la dernière couche du réseau. <br>\n",
    "Après avoir récupérer cette array, la fonction <code>lisible</code> en recupère l'index maximal qui corespond au chiffre qui est lu. <br>"
   ]
  },
  {
   "attachments": {},
   "cell_type": "markdown",
   "metadata": {},
   "source": [
    "![title](dossier_pour_doc/taille0.PNG)\n",
    "![title](dossier_pour_doc/taille1.PNG)"
   ]
  },
  {
   "attachments": {},
   "cell_type": "markdown",
   "metadata": {},
   "source": [
    "Ces trois fonctions font parties des moins intuitives, mais elles sont essentielles au bon fonctionnement du code. <br>\n",
    "<br>\n",
    "Avant de les détailler il semble qu'il faut expliquer pourquoi elles sont obligatoire <br>\n",
    "<br>\n",
    "Pour pouvoir avoir un reseau de neurone capable de reconnaitre avec efficacité des nombres écrits, il faut l'entrainer, beaucoup, <br>\n",
    "mais surtout, l'entrainé avec beaucoup de ressource, car il faut qu'il reconnaisse l'écriture de n'importe qui.<br>\n",
    "Pour cela nous avons utilisé la base de donné <i>MNIST</i>, qui regroupe 60000 images de numéros entre 0 et 9 de 28x28 pixels. <br>\n",
    "Mais voila le problème: pour un confort du joueur, on ne peut lui faire dessiner sur un carré de 28 pixels de coté. <br>\n",
    "<br> \n",
    "C'est pour cela que ces fonctions sont là, apres avoir faire dessiner le joueur sur un carré de 252 pixel<br>\n",
    "_pourquoi 252? car 252 est un multiple de 28 (28x9) c'est a la fois sufisament grand pour le joueur, <br>\n",
    "et sufisament petit pour que le passage de 252 à 28 ne soit pas trop illisible_<br>\n",
    "donc pour passer de 252 à 28, nous avons dessidé d'utilisé 3 fonctions: <br>\n",
    "<br>\n",
    "&nbsp;&nbsp; -> D'abord on enlève tous les contours, en générale les joueurs ne vont pas utilisé tous l'espace qu'ils ont à disposition. \n",
    "C'est pour cela que nous enlevons à l'array de taille (252,252), à l'aide de la fonction <code>recentrer</code>, toute les colonnes et lignes venant des 4 directions, jusqu'à en trouver une qui possède 1 pixel coloré. <br>\n",
    "<br>\n",
    "&nbsp;&nbsp; -> Mais voila que nous avons une array de taille aléatoire, on utilse donc la fonction <code>mise_a_multiple</code>, qui rajoute des marges des 4 cotés pour atteindre un carré de taille formant un multiple de 28 (on créer d'ailleur des marges suplémentaires (qui atteignent alors le multiple supérieur), car dans la base de donné aucun chiffre ne colle le bord).  <br>\n",
    "<br>\n",
    "&nbsp;&nbsp; -> Maintenant il faut transformer cette array de taille multiple de 28 en array de taille 28, c'est là qu'intervient la fonction <code>remise_a_bonne_taille</code>. Pour faire simple, elle convertit n pixel en 1 pixel (n = taille/28) en faisant la moyenne du petit carré. <br>\n",
    "<br>\n",
    "Ces trois fonctions permettent de convertir le dessin que vous dessiné au format qui peut être utilisé par notre réseau de neurones.<br>\n",
    "Il ne suffit plus qu'à les cumuler grace à la fonction <code>mise_en_forme</code>\n"
   ]
  },
  {
   "attachments": {},
   "cell_type": "markdown",
   "metadata": {},
   "source": [
    "![title](dossier_pour_doc/taille2.PNG)"
   ]
  },
  {
   "attachments": {},
   "cell_type": "markdown",
   "metadata": {},
   "source": [
    "##### <span style=\"text-decoration: underline\">Fonctions complexes</span> : #####"
   ]
  },
  {
   "attachments": {},
   "cell_type": "markdown",
   "metadata": {},
   "source": [
    "![title](dossier_pour_doc/reseau_neurone0.PNG)"
   ]
  },
  {
   "attachments": {},
   "cell_type": "markdown",
   "metadata": {},
   "source": [
    "![title](dossier_pour_doc/reseau_neurone1.PNG)"
   ]
  },
  {
   "attachments": {},
   "cell_type": "markdown",
   "metadata": {},
   "source": [
    "Voici une classe apartenant au ficher nombre.ipynb <br>\n",
    "C'est de loin la parti du code la plus importante. <br>\n",
    "Il s'agit du réseau de neurones artificielles. <br>\n",
    "<br>\n",
    "Mais avant de detailler le code, voyons comment utiliser cette classe et de quoi est elle capable.<br>\n",
    "D'abord, il faut importer la base de données et avoir mis: X l'array contenant les images et y les resultats. <br>"
   ]
  },
  {
   "attachments": {},
   "cell_type": "markdown",
   "metadata": {},
   "source": [
    "![title](dossier_pour_doc/entrainement.PNG)"
   ]
  },
  {
   "attachments": {},
   "cell_type": "markdown",
   "metadata": {},
   "source": [
    "_Les parties vertes permettent de sauvegarder les paramètres des neurones dans un ficher .pkl et de les réutiliser pour la prochaine session d'entrainement, ainsi on peut réaliser beaucoup d'entrainement sans les faire en 1 seul coup, et surtout cela permet de ne pas avoir à lancer un entrainement de 1 heure chaque fois avant de lancer le jeu._ <br> \n",
    "<br>\n",
    "Tout d'abord on initialise le réseau et on lui donne son nombre de couches et son nombre de neurones par couche.\n",
    "Ici on voit que nous avons deux couches centrales de 48 neuronnes chacun. <br>\n",
    "De plus lors de l'initialisation on choisit le learning rate, après plusieurs essaies nous avons décidé de le mettre à 0.1. \n",
    "<br>\n",
    "<br>\n",
    "Apres avoir initialisé notre réseau de neurone nommé 'reseau1', il est temps de l'entrainer,<br> \n",
    "Pour cela on utilise notre base de données, (array X, et y). On choisit le nombre de répétition des calcul permettant d'équilibrer les paramètres des neurones et de reconnaître avec précision les nombres. <br>\n",
    "Plus ce nombre est grand, meilleur sera notre réseau de neurone, mais celui-ci à des limites imposés par le nombre de neurones et son nombre de couches. <br>\n",
    "Après plus de 5000 répétitions, nous avons clairement remarqué que notre réseau s'améliorait de plus en plus lentement. <br>\n",
    "Le graphique ci-dessous montre l'amélioration entre 4000 et 4500 répétitions. <br> "
   ]
  },
  {
   "attachments": {},
   "cell_type": "markdown",
   "metadata": {},
   "source": [
    "![title](dossier_pour_doc/graphique.PNG)"
   ]
  },
  {
   "attachments": {},
   "cell_type": "markdown",
   "metadata": {},
   "source": [
    "Pour faire ces 500 répétitions, 15 minutes ont été nécessaire. <br>\n",
    "Mais les \"95%\" de réussite sont largement satisfaisant, surtout que lorsque le résultat donnée n'etait pas celui attendu, il s'agissait systématiquement du deuxième résultat proposé.<br>\n",
    "En réalité, en experimentant par nous même, ce n'est pas 95% de réussite que nous observons, mais 80% lorsque nous essayons de lire sur la base de données d'entrainment et entre 60 et 75 % lorsque le joueur joue."
   ]
  },
  {
   "attachments": {},
   "cell_type": "markdown",
   "metadata": {},
   "source": [
    "![title](dossier_pour_doc/resultat.PNG)"
   ]
  },
  {
   "attachments": {},
   "cell_type": "markdown",
   "metadata": {},
   "source": [
    "Dans le cas où les résultat auraient été insatisfaisant, nous aurions eu deux choix: <br>\n",
    "&nbsp;&nbsp; -> augmenter le nombre de couches, comme par exemple avoir comme couche centrale : (48,48,48) <br>\n",
    "&nbsp;&nbsp; -> augmenter le nombre de neurones par couche, pour avoir comme couche centrale : (128,128) <br>\n",
    "-> ou bien réunir les deux pour avoir comme couche centrale : (128,128,128) <br>\n",
    "Mais ceux ci ne montraient pas de résultat significativement supérieur, donc nous avons decidé de garder un réseau de neurone simple et rapide à entrainer. <br>"
   ]
  },
  {
   "attachments": {},
   "cell_type": "markdown",
   "metadata": {},
   "source": [
    "##### <span style=\"text-decoration: underline\">Fonction réseau de neurone</span> #####"
   ]
  },
  {
   "attachments": {},
   "cell_type": "markdown",
   "metadata": {},
   "source": [
    "![title](dossier_pour_doc/init.PNG)"
   ]
  },
  {
   "attachments": {},
   "cell_type": "markdown",
   "metadata": {},
   "source": [
    "La méthode constructeur permet de créer un immense dictionnaire dans lequel les paramètres de chaque neurones sont sauvegardés. <br>\n",
    "Lorsque le joueur joue, au lieu de réentrainer le réseau de neurones, il suffit d'importer un dictionnaire qui est déjà entrainé et que nous avons sauvegardé."
   ]
  },
  {
   "attachments": {},
   "cell_type": "markdown",
   "metadata": {},
   "source": [
    "![title](dossier_pour_doc/forward.PNG)"
   ]
  },
  {
   "attachments": {},
   "cell_type": "markdown",
   "metadata": {},
   "source": [
    "Cette fonction suit les fonctions mathématiques de la <u>forward propagation</u> traditionelle.\n",
    "<br>\n",
    "$ Z^{[i]} = W^{[i]} * A^{[i-1]} + B^{[i]} $ <br>\n",
    "Dans ce code on utilise une fonction sygmoïde pour l'activation. <br>\n",
    "$ A^{[i]} = \\frac{1}{1+e^{-Z^{[i]}}} $ <br> Mais on aurait pu utiliser la fonction reLU: max(Z,0) <br>\n",
    "ou bien la fonction 1*(Z>0) qui est une fonction qui renvoie 0 ou 1."
   ]
  },
  {
   "attachments": {},
   "cell_type": "markdown",
   "metadata": {},
   "source": [
    "![title](dossier_pour_doc/backward.PNG)"
   ]
  },
  {
   "attachments": {},
   "cell_type": "markdown",
   "metadata": {},
   "source": [
    "Idem pour la <u>back propagation</u>, les fonctions traditionnel de la descente de gradiant sont utilisés: <br> <br>\n",
    "$\\frac{\\partial L}{\\partial W_t} = \\frac{1}{m} × dZ_t × A^{[t-1]^{T}} $ <br>\n",
    "<br>\n",
    "$\\frac{\\partial L}{\\partial b_t} = \\frac{1}{m} ×  \\sum_{axe \\ 1} dZ_t $ <br> <br>\n",
    "avec $dZ_t$ defini par :\n",
    "<br>  <br>\n",
    "$  W_{t}^{T} × dZ_{t-1} × A^{[t-1]} × (1 - A^{[t-1]}) $  <br> \n",
    "si t n'est pas égal à n-1 (le dernier) sinon c'est $dZ_t$ est defini par: <br> \n",
    "$ A^{[t]} - y $ "
   ]
  },
  {
   "attachments": {},
   "cell_type": "markdown",
   "metadata": {},
   "source": [
    "![title](dossier_pour_doc/update.PNG)"
   ]
  },
  {
   "attachments": {},
   "cell_type": "markdown",
   "metadata": {},
   "source": [
    "La fonction <code>update</code> permet de mettre à jour les paramètres du réseau de neurones. Il suit les fonctions suivante: <br>\n",
    "$ \\underset{t+1}{W} = \\underset{t}{W} -\\alpha × \\frac{\\partial L}{\\partial W_t}  \\\\\n",
    "\\underset{t+1}{b} = \\underset{t}{b} - \\alpha × \\frac{\\partial L}{\\partial b_t}  $\n",
    "\n",
    "Le $\\alpha$ est un paramètre que l'on a défini idéal à 0.1 car après plusieurs test, il est celui qui converge le plus rapidement vers les \"95%\" de réussite."
   ]
  },
  {
   "attachments": {},
   "cell_type": "markdown",
   "metadata": {},
   "source": [
    "![title](dossier_pour_doc/entrainement_sigmo.PNG)"
   ]
  },
  {
   "attachments": {},
   "cell_type": "markdown",
   "metadata": {},
   "source": [
    "Voici la fonction finale, celle qui entraine le réseau de neurone. <br>\n",
    "Elle boucle n_iter fois (dans notre cas c'est un total de 5000 fois). <br>\n",
    "A chaque tour de boucle, elle calcule les activations permettant pour toute la matrice X de trouver le résultat final. <br>\n",
    "Puis, elle retourne en arrière avec la <u>back propagation</u> en comparant les activation avec la matrice y le résulat attendu. <br>\n",
    "Pour finir, elle modifie les paramètres du réseau pour que au prochain tour de boucle le réseau se soit amélioré. <br>\n",
    "<br>\n",
    "En plus de cela, nous avons ajouter un algorithme qui permet de visualiser avec une courbe affichable avec la méthode <code>afficher_courbe</code>, <br>\n",
    "l'évolution de l'efficacité du réseau en fonction du nombre d'itération, ainsi que du loss ou plutôt logloss.<br>\n",
    "Ce qui permet aussi de voir l'efficacité du réseau en fonction du nb d'iteration puisque cette fonction est defini comme l'opposé du logarithme néperien de la fonction loss. Cette dernière est le produit de toute les prababiltés, ce qui est trop proche de 0 pour être calculé.<br>C'est pour cela qu'une fonction logarithme est appliqué, pour transformer un produit en somme.\n",
    "\n",
    "$L = - \\dfrac{1}{m} \\displaystyle\\sum_{i=1}^{m}y^{(i)} \\times \\log(a^{(i)}) + (1 - y^{(i)}) \\times \\log(1 - a^{(i)})$"
   ]
  },
  {
   "cell_type": "markdown",
   "metadata": {},
   "source": []
  }
 ],
 "metadata": {
  "kernelspec": {
   "display_name": "base",
   "language": "python",
   "name": "python3"
  },
  "language_info": {
   "codemirror_mode": {
    "name": "ipython",
    "version": 3
   },
   "file_extension": ".py",
   "mimetype": "text/x-python",
   "name": "python",
   "nbconvert_exporter": "python",
   "pygments_lexer": "ipython3",
   "version": "3.9.13"
  },
  "orig_nbformat": 4,
  "vscode": {
   "interpreter": {
    "hash": "bfa18828ba8c926e1127bff2dde72e83e346c8f2416c30ccce80ec429eddf431"
   }
  }
 },
 "nbformat": 4,
 "nbformat_minor": 2
}
