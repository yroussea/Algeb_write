{
 "cells": [
  {
   "cell_type": "code",
   "execution_count": 1,
   "metadata": {},
   "outputs": [
    {
     "ename": "ModuleNotFoundError",
     "evalue": "No module named 'sklearn'",
     "output_type": "error",
     "traceback": [
      "\u001b[0;31m---------------------------------------------------------------------------\u001b[0m",
      "\u001b[0;31mModuleNotFoundError\u001b[0m                       Traceback (most recent call last)",
      "Cell \u001b[0;32mIn[1], line 3\u001b[0m\n\u001b[1;32m      1\u001b[0m \u001b[38;5;28;01mimport\u001b[39;00m \u001b[38;5;21;01mnumpy\u001b[39;00m \u001b[38;5;28;01mas\u001b[39;00m \u001b[38;5;21;01mnp\u001b[39;00m\n\u001b[0;32m----> 3\u001b[0m \u001b[38;5;28;01mfrom\u001b[39;00m \u001b[38;5;21;01msklearn\u001b[39;00m\u001b[38;5;21;01m.\u001b[39;00m\u001b[38;5;21;01mmetrics\u001b[39;00m \u001b[38;5;28;01mimport\u001b[39;00m accuracy_score \n\u001b[1;32m      4\u001b[0m \u001b[38;5;28;01mimport\u001b[39;00m \u001b[38;5;21;01mmatplotlib\u001b[39;00m\u001b[38;5;21;01m.\u001b[39;00m\u001b[38;5;21;01mpyplot\u001b[39;00m \u001b[38;5;28;01mas\u001b[39;00m \u001b[38;5;21;01mplt\u001b[39;00m\n\u001b[1;32m      5\u001b[0m \u001b[38;5;28;01mfrom\u001b[39;00m \u001b[38;5;21;01mtqdm\u001b[39;00m \u001b[38;5;28;01mimport\u001b[39;00m tqdm\n",
      "\u001b[0;31mModuleNotFoundError\u001b[0m: No module named 'sklearn'"
     ]
    }
   ],
   "source": [
    "import numpy as np\n",
    "\n",
    "from sklearn.metrics import accuracy_score \n",
    "import matplotlib.pyplot as plt\n",
    "from tqdm import tqdm\n",
    "from IPython.display import clear_output\n",
    "import pickle\n",
    "\n"
   ]
  },
  {
   "cell_type": "code",
   "execution_count": null,
   "metadata": {},
   "outputs": [],
   "source": []
  },
  {
   "attachments": {},
   "cell_type": "markdown",
   "metadata": {},
   "source": [
    "importation de la base de donné MNIST"
   ]
  },
  {
   "cell_type": "code",
   "execution_count": 2,
   "metadata": {},
   "outputs": [],
   "source": [
    "import gzip\n",
    "f = gzip.open('base_de_donnee/train-images-idx3-ubyte.gz','r')\n",
    "image_size = 28\n",
    "num_images = (60000, 0)  #nombre d'image pour l'entrainemnt puis pour les tests\n",
    "\n",
    "f.read(16)\n",
    "buf = f.read(image_size * image_size * sum(num_images))\n",
    "data = np.frombuffer(buf, dtype=np.uint8).astype(np.float32)\n",
    "data = data.reshape(sum(num_images), image_size, image_size, 1)\n",
    "\n",
    "g = gzip.open('base_de_donnee/train-labels-idx1-ubyte.gz','r')\n",
    "g.read(8)\n",
    "\n",
    "liste_pour_x = []\n",
    "liste_pour_y = []\n",
    "for i in range(0,num_images[0]):   \n",
    "    buf = g.read(1)\n",
    "    labels = np.frombuffer(buf, dtype=np.uint8).astype(np.int8)\n",
    "    a = np.array([0 for k in range(10)])\n",
    "    a[labels] = 1 \n",
    "    liste_pour_y.append(a)\n",
    "    \n",
    "    image = np.asarray(data[i]).squeeze()\n",
    "    liste_pour_x.append(image.flatten())\n",
    "\n",
    "liste_pour_x_test = []\n",
    "liste_pour_y_test = []\n",
    "for k in range(num_images[0],num_images[0] + num_images[1]):\n",
    "    buf = g.read(1)\n",
    "    labels = np.frombuffer(buf, dtype=np.uint8).astype(np.int8)\n",
    "    a = np.array([0 for j in range(10)])\n",
    "    a[labels] = 1 \n",
    "    liste_pour_y_test.append(a)\n",
    "    \n",
    "    image = np.asarray(data[k]).squeeze()\n",
    "    liste_pour_x_test.append(image.flatten())"
   ]
  },
  {
   "cell_type": "code",
   "execution_count": 4,
   "metadata": {},
   "outputs": [],
   "source": [
    "X = np.array(liste_pour_x).T\n",
    "y = np.array(liste_pour_y).T\n",
    "X_test = np.array(liste_pour_x_test).T\n",
    "y_test = np.array(liste_pour_y_test).T"
   ]
  },
  {
   "cell_type": "code",
   "execution_count": 46,
   "metadata": {},
   "outputs": [],
   "source": []
  },
  {
   "cell_type": "code",
   "execution_count": 14,
   "metadata": {},
   "outputs": [],
   "source": [
    "import warnings\n",
    "warnings.filterwarnings(\"ignore\")"
   ]
  },
  {
   "cell_type": "code",
   "execution_count": 5,
   "metadata": {},
   "outputs": [],
   "source": [
    "class reseau_de_neurone:\n",
    "    def __init__(self,dimensions,learning_rate):\n",
    "        self.dimensions = dimensions\n",
    "        self.parametres = self.initialisation()\n",
    "        self.nombre_de_couche = len(self.parametres) // 2\n",
    "        self.learning_rate = learning_rate\n",
    "\n",
    "    def initialisation(self):\n",
    "        parametres = {}\n",
    "        C = len(self.dimensions)\n",
    "        for c in range(1, C):\n",
    "            parametres['W' + str(c)] = np.random.randn(self.dimensions[c], self.dimensions[c - 1])\n",
    "            parametres['b' + str(c)] = np.random.randn(self.dimensions[c], 1)\n",
    "        return parametres\n",
    "\n",
    "    def forward_propagation(self, X):\n",
    "        activations = {'A0': X}\n",
    "\n",
    "        for c in range(1, self.nombre_de_couche + 1):\n",
    "            Z = self.parametres['W' + str(c)].dot(activations['A' + str(c - 1)]) + self.parametres['b' + str(c)]\n",
    "            activations['A' + str(c)] = 1/ ( 1+ np.exp(-Z)) #1. * (Z > 0)\n",
    "        return activations\n",
    "\n",
    "    def back_propagation(self, y, activations):\n",
    "        m = y.shape[1]\n",
    "        dZ = activations['A' + str(self.nombre_de_couche)] - y\n",
    "        gradients = {}\n",
    "        for c in reversed(range(1, self.nombre_de_couche + 1)):\n",
    "            gradients['dW' + str(c)] = 1/m * np.dot(dZ, activations['A' + str(c - 1)].T)\n",
    "            gradients['db' + str(c)] = 1/m * np.sum(dZ, axis=1, keepdims=True)\n",
    "            if c > 1:\n",
    "                dZ = np.dot(self.parametres['W' + str(c)].T, dZ) * activations['A' + str(c - 1)] * (1 - activations['A' + str(c - 1)])\n",
    "        return gradients\n",
    "\n",
    "    def update(self, gradients):\n",
    "        for c in range(1, self.nombre_de_couche + 1):\n",
    "            self.parametres['W' + str(c)] = self.parametres['W' + str(c)] - self.learning_rate * gradients['dW' + str(c)]\n",
    "            self.parametres['b' + str(c)] = self.parametres['b' + str(c)] - self.learning_rate * gradients['db' + str(c)]\n",
    "\n",
    "    def logloss(self, y_true, y_pred, eps=1e-15):\n",
    "        y_pred = np.clip(y_pred, eps, 1 - eps)\n",
    "        return -(y_true * np.log(y_pred)).sum(axis=1).mean()\n",
    "\n",
    "    def predict(self, X):\n",
    "        activations = self.forward_propagation(X)\n",
    "        Af = activations['A' + str(self.nombre_de_couche)]    \n",
    "        return Af\n",
    "    \n",
    "    def entrainement_sygmoide(self, X, y , n_iter = 3000):\n",
    "        self.courbe_loss = []\n",
    "        self.courbe_efficacité = []\n",
    "\n",
    "        for i in tqdm(range(n_iter)):\n",
    "\n",
    "            activations = self.forward_propagation(X)\n",
    "            gradients = self.back_propagation(y,activations)\n",
    "            self.update(gradients)\n",
    "\n",
    "            if i%10 == 0:\n",
    "                self.courbe_loss.append(self.logloss(y,activations['A' + str(self.nombre_de_couche)]))\n",
    "                y_pred = self.predict(X)\n",
    "                current_acc = accuracy_score(y.flatten().round(), y_pred.flatten().round())\n",
    "                self.courbe_efficacité.append(current_acc)\n",
    "        \n",
    "    def afficher_courbe(self):\n",
    "        plt.figure(figsize=(12, 4))\n",
    "        plt.subplot(1, 2, 1)\n",
    "        plt.plot(self.courbe_loss, label='courbe loss')\n",
    "        plt.legend()\n",
    "        plt.subplot(1, 2, 2)\n",
    "        plt.plot(self.courbe_efficacité, label='efficacité')\n",
    "        plt.legend()\n",
    "        plt.show()\n"
   ]
  },
  {
   "attachments": {},
   "cell_type": "markdown",
   "metadata": {},
   "source": [
    "initialisation d'un réseau et recuperation des parametres perfectionner a plus de 5000 répétition"
   ]
  },
  {
   "cell_type": "code",
   "execution_count": 6,
   "metadata": {},
   "outputs": [],
   "source": [
    "numero_sauvegarde = 3\n",
    "reseau1 = reseau_de_neurone((X.shape[0], 48,48, y.shape[0]) , 0.1)\n",
    "para = pickle.load(open('parametres/file' + str(numero_sauvegarde) +'.pkl', 'rb'))\n",
    "reseau1.parametres = para"
   ]
  },
  {
   "attachments": {},
   "cell_type": "markdown",
   "metadata": {},
   "source": [
    "entrainement (facultatif) + sauvegarde des nouveaux parametres"
   ]
  },
  {
   "cell_type": "code",
   "execution_count": 10,
   "metadata": {},
   "outputs": [
    {
     "name": "stderr",
     "output_type": "stream",
     "text": [
      "100%|██████████| 500/500 [13:15<00:00,  1.59s/it]\n"
     ]
    }
   ],
   "source": [
    "reseau1.entrainement_sygmoide(X , y , 500)\n",
    "dict = reseau1.parametres\n",
    "# f = open('parametres/file' + str(numero_sauvegarde + 1) +'.pkl',\"wb\")\n",
    "# pickle.dump(dict,f)\n",
    "# f.close()"
   ]
  },
  {
   "cell_type": "code",
   "execution_count": 11,
   "metadata": {},
   "outputs": [
    {
     "data": {
      "image/png": "[encoded data removed]",
      "text/plain": [
       "<Figure size 1200x400 with 2 Axes>"
      ]
     },
     "metadata": {},
     "output_type": "display_data"
    }
   ],
   "source": [
    "reseau1.afficher_courbe()"
   ]
  },
  {
   "cell_type": "code",
   "execution_count": 8,
   "metadata": {},
   "outputs": [
    {
     "data": {
      "text/plain": [
       "0.974"
      ]
     },
     "execution_count": 8,
     "metadata": {},
     "output_type": "execute_result"
    }
   ],
   "source": [
    "v1 = y.flatten().round()\n",
    "v2 = reseau1.predict(X).flatten().round()\n",
    "accuracy_score(v1,v2) #efficasité avec base de donné de l'entrainement\n",
    "accuracy_score(y_test.flatten().round(), reseau1.predict(X_test.T.reshape((784, -1))).flatten().round()) #efficasité avec base de donné exterieure"
   ]
  },
  {
   "cell_type": "code",
   "execution_count": 7,
   "metadata": {},
   "outputs": [
    {
     "name": "stderr",
     "output_type": "stream",
     "text": [
      "C:\\Users\\Utilisateur local\\AppData\\Local\\Temp\\ipykernel_9284\\409559921.py:21: RuntimeWarning: overflow encountered in exp\n",
      "  activations['A' + str(c)] = 1/ ( 1+ np.exp(-Z)) #1. * (Z > 0)\n"
     ]
    },
    {
     "data": {
      "image/png": "[encoded data removed]",
      "text/plain": [
       "<Figure size 640x480 with 2 Axes>"
      ]
     },
     "metadata": {},
     "output_type": "display_data"
    },
    {
     "data": {
      "text/plain": [
       "{'orange': 13, 'rouge': 5}"
      ]
     },
     "execution_count": 7,
     "metadata": {},
     "output_type": "execute_result"
    }
   ],
   "source": [
    "import time\n",
    "def afficher_graph_et_image(index):\n",
    "    compte = {'orange': 0,\n",
    "              'rouge' : 0}\n",
    "    m = len(index)\n",
    "    for i in index:\n",
    "        clear_output(wait=True)\n",
    "        a0 = X.T[i].reshape(28,28)\n",
    "        a1 = a0.reshape(784,1)\n",
    "        a2 = np.argmax(y.T[i])\n",
    "        g = reseau1.predict(a1)\n",
    "        if np.argmax(g) != a2:\n",
    "            g1 = [k for k in range(10) if g[k] == max([g[j] for j in range(10) if j != np.argmax(g)])]\n",
    "            if g1 == a2:\n",
    "                plt.figure(facecolor='orange')\n",
    "                compte['orange'] += 1\n",
    "            else:\n",
    "                plt.figure(facecolor='red')\n",
    "                compte['rouge'] += 1\n",
    "        plt.subplot(2,2,1)\n",
    "        plt.imshow(a0)\n",
    "        plt.subplot(2,2,2)\n",
    "        plt.bar([str(k) for k in range(10)], [float(li) for li in list(g)])\n",
    "        plt.show()\n",
    "        time.sleep(0.1)\n",
    "    return compte\n",
    "afficher_graph_et_image(range(100))"
   ]
  },
  {
   "cell_type": "code",
   "execution_count": 2,
   "metadata": {},
   "outputs": [],
   "source": [
    "#####permet de reinitialiser les records du jeu\n",
    "import pickle\n",
    "record = {\n",
    "    None : {None : 0}, #si aucun jeu n'est selectionner \n",
    "    True : {\n",
    "        0.5: 0, \n",
    "        1:   0, \n",
    "        2:   0,\n",
    "        },\n",
    "    False : {\n",
    "        10: float('inf'), \n",
    "        20:  float('inf'), \n",
    "        30:  float('inf'), \n",
    "        40:  float('inf'), \n",
    "        50:  float('inf'),\n",
    "        },\n",
    "}\n",
    "f = open('parametres/record.pkl',\"wb\")\n",
    "pickle.dump(record,f)\n",
    "f.close()"
   ]
  },
  {
   "cell_type": "code",
   "execution_count": 8,
   "metadata": {
    "vscode": {
     "languageId": "bat"
    }
   },
   "outputs": [
    {
     "ename": "SyntaxError",
     "evalue": "invalid syntax (2773556058.py, line 1)",
     "output_type": "error",
     "traceback": [
      "\u001b[0;36m  Cell \u001b[0;32mIn[8], line 1\u001b[0;36m\u001b[0m\n\u001b[0;31m    echo \"salut\"\u001b[0m\n\u001b[0m         ^\u001b[0m\n\u001b[0;31mSyntaxError\u001b[0m\u001b[0;31m:\u001b[0m invalid syntax\n"
     ]
    }
   ],
   "source": [
    "echo \"salut\""
   ]
  },
  {
   "cell_type": "markdown",
   "metadata": {},
   "source": [
    "salut <br>\n",
    "salut"
   ]
  },
  {
   "cell_type": "code",
   "execution_count": 2,
   "metadata": {},
   "outputs": [],
   "source": [
    "a = 0"
   ]
  },
  {
   "cell_type": "code",
   "execution_count": 5,
   "metadata": {},
   "outputs": [
    {
     "name": "stdout",
     "output_type": "stream",
     "text": [
      "1\n"
     ]
    }
   ],
   "source": [
    "print(a)"
   ]
  },
  {
   "cell_type": "code",
   "execution_count": 4,
   "metadata": {},
   "outputs": [],
   "source": [
    "a = 1"
   ]
  },
  {
   "cell_type": "code",
   "execution_count": null,
   "metadata": {},
   "outputs": [],
   "source": []
  }
 ],
 "metadata": {
  "kernelspec": {
   "display_name": "base",
   "language": "python",
   "name": "python3"
  },
  "language_info": {
   "codemirror_mode": {
    "name": "ipython",
    "version": 3
   },
   "file_extension": ".py",
   "mimetype": "text/x-python",
   "name": "python",
   "nbconvert_exporter": "python",
   "pygments_lexer": "ipython3",
   "version": "3.10.12"
  },
  "orig_nbformat": 4,
  "vscode": {
   "interpreter": {
    "hash": "bfa18828ba8c926e1127bff2dde72e83e346c8f2416c30ccce80ec429eddf431"
   }
  }
 },
 "nbformat": 4,
 "nbformat_minor": 2
}
